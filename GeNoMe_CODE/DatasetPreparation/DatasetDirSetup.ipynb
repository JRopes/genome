{
 "cells": [
  {
   "cell_type": "code",
   "execution_count": 1,
   "id": "7aec904f-9d42-47e4-979e-e37166274182",
   "metadata": {},
   "outputs": [],
   "source": [
    "import os\n",
    "import shutil"
   ]
  },
  {
   "cell_type": "code",
   "execution_count": 2,
   "id": "b01abf11-62ba-4363-a42d-451d14de0aa7",
   "metadata": {},
   "outputs": [],
   "source": [
    "#################################\n",
    "## USER PARAMETERS #############\n",
    "###############################\n",
    "root_path = \"D:\"\n",
    "original_dataset_path = \"D:/BraTS_FINAL\""
   ]
  },
  {
   "cell_type": "code",
   "execution_count": 3,
   "id": "5e3a2875-29ae-4cf7-a5d1-e1b302d6c3a5",
   "metadata": {},
   "outputs": [],
   "source": [
    "sorted_dataset_root = os.path.join(root_path,\"Sorted_BraTS\")\n",
    "os.mkdir(sorted_dataset_root)"
   ]
  },
  {
   "cell_type": "code",
   "execution_count": 4,
   "id": "4d6243a6-abb9-44a2-9974-a1dda2c42044",
   "metadata": {},
   "outputs": [],
   "source": [
    "categories = [\"flair\",\"seg\",\"t1ce\",\"t1\",\"t2\"]"
   ]
  },
  {
   "cell_type": "code",
   "execution_count": 5,
   "id": "8f941f8f-358a-486d-a22d-a8f7a48cad84",
   "metadata": {},
   "outputs": [],
   "source": [
    "for category in categories:\n",
    "    temp_path = os.path.join(sorted_dataset_root,category)\n",
    "    os.mkdir(temp_path)"
   ]
  },
  {
   "cell_type": "code",
   "execution_count": 6,
   "id": "ca22d759-2aac-4dcd-bd05-0b7798d01c9f",
   "metadata": {},
   "outputs": [],
   "source": [
    "for instance_dir in os.listdir(original_dataset_path):\n",
    "    instance_path = os.path.join(original_dataset_path,instance_dir)\n",
    "    \n",
    "    for contrast_dir in os.listdir(instance_path):\n",
    "        contrast_path = os.path.join(instance_path,contrast_dir)\n",
    "        \n",
    "        for category in categories:\n",
    "            if(contrast_dir.find(category) != -1):\n",
    "                for slice_file in os.listdir(contrast_path):\n",
    "                    slice_path = os.path.join(contrast_path,slice_file)\n",
    "                    target_path = os.path.join(sorted_dataset_root,category,slice_file)\n",
    "                    shutil.copy(slice_path,target_path)\n",
    "                break\n",
    "    "
   ]
  },
  {
   "cell_type": "code",
   "execution_count": null,
   "id": "47c88911-0965-479a-b3f9-5d83d56ca0f8",
   "metadata": {},
   "outputs": [],
   "source": []
  }
 ],
 "metadata": {
  "kernelspec": {
   "display_name": "Python 3 (ipykernel)",
   "language": "python",
   "name": "python3"
  },
  "language_info": {
   "codemirror_mode": {
    "name": "ipython",
    "version": 3
   },
   "file_extension": ".py",
   "mimetype": "text/x-python",
   "name": "python",
   "nbconvert_exporter": "python",
   "pygments_lexer": "ipython3",
   "version": "3.9.12"
  }
 },
 "nbformat": 4,
 "nbformat_minor": 5
}
