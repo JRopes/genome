{
 "cells": [
  {
   "cell_type": "markdown",
   "id": "5bcda11c-d6f7-44a2-b07a-9c40b954a649",
   "metadata": {},
   "source": [
    "**Dependencies**"
   ]
  },
  {
   "cell_type": "markdown",
   "id": "44c6a272-f3f5-4843-a511-c54d664a5cac",
   "metadata": {},
   "source": [
    "- [gzip](https://anaconda.org/conda-forge/m2-gzip)\n",
    "- os\n",
    "- shutil\n",
    "- [Nibabel](https://anaconda.org/conda-forge/nibabel)\n",
    "- [ImageIO](https://anaconda.org/conda-forge/imageio)"
   ]
  },
  {
   "cell_type": "markdown",
   "id": "c7870d60-5f1e-4592-bafe-0f3eb6024a83",
   "metadata": {},
   "source": [
    "**Unzipping GZ Files to Nifti**"
   ]
  },
  {
   "cell_type": "code",
   "execution_count": 1,
   "id": "329d2726-6250-4167-8876-6adf2dc83d0c",
   "metadata": {},
   "outputs": [],
   "source": [
    "import gzip\n",
    "import os\n",
    "import shutil"
   ]
  },
  {
   "cell_type": "code",
   "execution_count": 5,
   "id": "4d01029a-3c22-47e2-a0f4-723da2e917de",
   "metadata": {},
   "outputs": [],
   "source": [
    "\n",
    "dataset_path = 'D:/BraTS'\n",
    "\n",
    "for subdir in os.listdir(dataset_path):\n",
    "    subdir_path = os.path.join(dataset_path,subdir)\n",
    "    \n",
    "    if os.path.isdir(subdir_path):\n",
    "        for gzip_path in os.listdir(subdir_path):\n",
    "                gzip_file = os.path.join(subdir_path,gzip_path)\n",
    "\n",
    "                if os.path.isfile(gzip_file):\n",
    "                    with gzip.open(gzip_file,'rb') as f_in:\n",
    "                        output_path = os.path.splitext(gzip_file)[0]\n",
    "                        \n",
    "                        with open(output_path,'wb') as f_out:\n",
    "                            shutil.copyfileobj(f_in,f_out)"
   ]
  },
  {
   "cell_type": "markdown",
   "id": "66f2413f-300a-4292-9f27-4026833bb0a0",
   "metadata": {},
   "source": [
    "**Converting Nifti to PNG**"
   ]
  },
  {
   "cell_type": "code",
   "execution_count": 9,
   "id": "61603517-8b66-4b6e-b875-af71fd9da161",
   "metadata": {},
   "outputs": [],
   "source": [
    "import nibabel as nib\n",
    "import imageio"
   ]
  },
  {
   "cell_type": "code",
   "execution_count": 12,
   "id": "16a8fa4b-a34f-4bda-b0ff-447aa8df861d",
   "metadata": {},
   "outputs": [],
   "source": [
    "final_dataset_path = 'D:/BraTS_FINAL'\n",
    "original_dataset_path = 'D:/BraTS'\n",
    "\n",
    "for instance_dir in os.listdir(original_dataset_path):\n",
    "    \n",
    "    original_instance_dir_path = os.path.join(original_dataset_path,instance_dir)\n",
    "    \n",
    "    if os.path.isdir(original_instance_dir_path):\n",
    "        final_instance_dir_path = os.path.join(final_dataset_path,instance_dir)\n",
    "        os.mkdir(final_instance_dir_path)\n",
    "        \n",
    "        for nifti_file in os.listdir(original_instance_dir_path):\n",
    "            original_nifti_file = os.path.join(original_instance_dir_path,nifti_file)\n",
    "            \n",
    "            if ((os.path.isfile(original_nifti_file)) and (os.path.splitext(original_nifti_file)[1].lower() == '.nii')):\n",
    "                png_file = os.path.splitext(nifti_file)[0]\n",
    "                final_png_file = os.path.join(final_instance_dir_path,png_file)\n",
    "                os.mkdir(final_png_file)\n",
    "                final_png_file = os.path.join(final_png_file,png_file)\n",
    "                \n",
    "                nii_img = nib.load(original_nifti_file)\n",
    "                img_fdata = nii_img.get_fdata()\n",
    "                \n",
    "                slice_number = nii_img.shape[2]\n",
    "                \n",
    "                for z in range(slice_number):\n",
    "                    slice_img = img_fdata[:,:,z]\n",
    "                    imageio.imwrite(os.path.join(final_png_file,'_slice{}.png'.format(z)), slice_img)"
   ]
  },
  {
   "cell_type": "code",
   "execution_count": null,
   "id": "d020c5ae-49d9-4846-9799-6f348115b33d",
   "metadata": {},
   "outputs": [],
   "source": []
  }
 ],
 "metadata": {
  "kernelspec": {
   "display_name": "Python 3 (ipykernel)",
   "language": "python",
   "name": "python3"
  },
  "language_info": {
   "codemirror_mode": {
    "name": "ipython",
    "version": 3
   },
   "file_extension": ".py",
   "mimetype": "text/x-python",
   "name": "python",
   "nbconvert_exporter": "python",
   "pygments_lexer": "ipython3",
   "version": "3.9.12"
  }
 },
 "nbformat": 4,
 "nbformat_minor": 5
}
