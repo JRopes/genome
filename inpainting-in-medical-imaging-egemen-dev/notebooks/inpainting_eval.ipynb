{
 "cells": [
  {
   "cell_type": "code",
   "execution_count": 1,
   "metadata": {},
   "outputs": [],
   "source": [
    "%load_ext autoreload\n",
    "%autoreload 2"
   ]
  },
  {
   "cell_type": "code",
   "execution_count": 2,
   "metadata": {},
   "outputs": [
    {
     "name": "stdout",
     "output_type": "stream",
     "text": [
      "c:\\Users\\Ege\\Documents\\egemenkopuz\\projects\\inpainting-in-medical-imaging\n"
     ]
    }
   ],
   "source": [
    "%cd .."
   ]
  },
  {
   "cell_type": "code",
   "execution_count": 3,
   "metadata": {},
   "outputs": [
    {
     "data": {
      "text/plain": [
       "'c:\\\\Users\\\\Ege\\\\Documents\\\\egemenkopuz\\\\projects\\\\inpainting-in-medical-imaging'"
      ]
     },
     "execution_count": 3,
     "metadata": {},
     "output_type": "execute_result"
    }
   ],
   "source": [
    "%pwd"
   ]
  },
  {
   "cell_type": "code",
   "execution_count": 4,
   "metadata": {},
   "outputs": [],
   "source": [
    "from src.dataset import BraTSDataset\n",
    "from torch.utils.data import DataLoader\n",
    "from torchvision.utils import save_image\n",
    "import warnings\n",
    "warnings.simplefilter(action='ignore', category=FutureWarning)\n",
    "import pandas as pd\n",
    "import numpy as np\n",
    "from tqdm import tqdm\n",
    "from pathlib import Path\n",
    "import torch\n",
    "import yaml\n",
    "import os\n",
    "from glob import glob\n",
    "\n",
    "# from sewar.full_ref import vifp, ssim\n",
    "from sklearn.metrics import mean_squared_error\n",
    "from piq import vif_p, ssim, psnr, gmsd, FID, multi_scale_ssim\n",
    "\n",
    "from src.models.baseline import BaselineInpaintingGenerator"
   ]
  },
  {
   "cell_type": "code",
   "execution_count": 6,
   "metadata": {},
   "outputs": [],
   "source": [
    "def map_grade(x: torch.Tensor, requires_grad: bool = False):\n",
    "    out = torch.zeros(x.shape, dtype=torch.float, requires_grad=requires_grad).to(\n",
    "        x.device\n",
    "    )\n",
    "    out[(x == 1).nonzero(as_tuple=True)] = 0.5\n",
    "    out[(x == 2).nonzero(as_tuple=True)] = 0.75\n",
    "    out[(x == 3).nonzero(as_tuple=True)] = 1.0\n",
    "    return out"
   ]
  },
  {
   "cell_type": "code",
   "execution_count": 15,
   "metadata": {},
   "outputs": [],
   "source": [
    "# checkpoints = {\n",
    "#     \"baseline25_epoch100\": glob(\n",
    "#         \"final_results/baseline_inpainting 21-01-2022 16-44-21/*/checkpoints/*/network_inpainting_gen.pth.tar\"\n",
    "#     )\n",
    "#     + glob(\n",
    "#         \"final_results/baseline_inpainting cont 10-02-2022 19-58-00/*/checkpoints/*/network_inpainting_gen.pth.tar\"\n",
    "#     ),\n",
    "#     \"baseline100_epoch50\": glob(\n",
    "#         \"final_results/baseline_inpainting 100 13-02-2022 18-00-59/*/checkpoints/*/network_inpainting_gen.pth.tar\"\n",
    "#     ),\n",
    "#     \"fft25_epoch100\": glob(\n",
    "#         \"final_results/baseline_inpainting fft 11-02-2022 08-30-50/*/checkpoints/*/network_inpainting_gen.pth.tar\"\n",
    "#     ),\n",
    "#     \"fft100_epoch50\": glob(\n",
    "#         \"final_results/baseline_inpainting fft 100 13-02-2022 17-48-39/*/checkpoints/*/network_inpainting_gen.pth.tar\"\n",
    "#     ),\n",
    "# }\n",
    "\n",
    "checkpoints = {\n",
    "    \"baseline25_epoch100\": [\n",
    "        \"final_results/baseline_inpainting 21-01-2022 16-44-21/21-01-2022 16-44-21/checkpoints/50/network_inpainting_gen.pth.tar\",\n",
    "        \"final_results/baseline_inpainting 21-01-2022 16-44-21/21-01-2022 16-44-21/checkpoints/100/network_inpainting_gen.pth.tar\",\n",
    "        \"final_results/baseline_inpainting cont 10-02-2022 19-58-00/10-02-2022 19-58-00/checkpoints/150/network_inpainting_gen.pth.tar\",\n",
    "        \"final_results/baseline_inpainting cont 10-02-2022 19-58-00/10-02-2022 19-58-00/checkpoints/200/network_inpainting_gen.pth.tar\",\n",
    "    ],\n",
    "    \"baseline100_epoch50\": [\n",
    "        \"final_results/baseline_inpainting 100 13-02-2022 18-00-59/13-02-2022 18-00-59/checkpoints/50/network_inpainting_gen.pth.tar\",\n",
    "        \"final_results/baseline_inpainting 100 13-02-2022 18-00-59/13-02-2022 18-00-59/checkpoints/25/network_inpainting_gen.pth.tar\",\n",
    "    ],\n",
    "    \"fft25_epoch100\": [\n",
    "        \"final_results/baseline_inpainting fft 11-02-2022 08-30-50/11-02-2022 08-30-50/checkpoints/50/network_inpainting_gen.pth.tar\",\n",
    "        \"final_results/baseline_inpainting fft 11-02-2022 08-30-50/11-02-2022 08-30-50/checkpoints/100/network_inpainting_gen.pth.tar\",\n",
    "    ],\n",
    "    \"fft100_epoch50\": [\n",
    "        \"final_results/baseline_inpainting fft 100 13-02-2022 17-48-39/13-02-2022 17-48-39/checkpoints/25/network_inpainting_gen.pth.tar\",\n",
    "        \"final_results/baseline_inpainting fft 100 13-02-2022 17-48-39/13-02-2022 17-48-39/checkpoints/50/network_inpainting_gen.pth.tar\",\n",
    "    ],\n",
    "}\n"
   ]
  },
  {
   "cell_type": "code",
   "execution_count": 16,
   "metadata": {},
   "outputs": [],
   "source": [
    "device = torch.device(f\"cuda:{torch.cuda.current_device()}\") if torch.cuda.is_available() else \"cpu\"\n",
    "# device = \"cpu\"\n",
    "\n",
    "input_path = \"resources/data/brats20/validation\"\n",
    "fixed_indices = \"resources/indices/brats20_25p.yml\"\n",
    "output_path = \"resources/inpainting_eval/\"\n",
    "\n",
    "with open(fixed_indices) as file:\n",
    "    indices = yaml.safe_load(file)[\"val\"]"
   ]
  },
  {
   "cell_type": "code",
   "execution_count": 17,
   "metadata": {},
   "outputs": [],
   "source": [
    "df = pd.DataFrame(\n",
    "    {\"experiment\": pd.Series(dtype=\"str\"), \"epoch\": pd.Series(dtype=\"int\")}\n",
    ")"
   ]
  },
  {
   "cell_type": "code",
   "execution_count": 35,
   "metadata": {},
   "outputs": [
    {
     "name": "stderr",
     "output_type": "stream",
     "text": [
      "baseline25_epoch100 - epoch: 50: 100%|██████████| 531/531 [04:15<00:00,  2.08it/s]\n",
      "baseline25_epoch100 - epoch: 100: 100%|██████████| 531/531 [04:15<00:00,  2.07it/s]\n",
      "baseline25_epoch100 - epoch: 150: 100%|██████████| 531/531 [04:14<00:00,  2.09it/s]\n",
      "baseline25_epoch100 - epoch: 200: 100%|██████████| 531/531 [04:07<00:00,  2.14it/s]\n",
      "baseline100_epoch50 - epoch: 50: 100%|██████████| 531/531 [04:09<00:00,  2.13it/s]\n",
      "baseline100_epoch50 - epoch: 25: 100%|██████████| 531/531 [04:00<00:00,  2.21it/s]\n",
      "fft25_epoch100 - epoch: 50: 100%|██████████| 531/531 [04:01<00:00,  2.20it/s]\n",
      "fft25_epoch100 - epoch: 100: 100%|██████████| 531/531 [03:58<00:00,  2.22it/s]\n",
      "fft100_epoch50 - epoch: 25: 100%|██████████| 531/531 [04:04<00:00,  2.17it/s]\n",
      "fft100_epoch50 - epoch: 50: 100%|██████████| 531/531 [04:33<00:00,  1.94it/s]\n"
     ]
    }
   ],
   "source": [
    "for exp_name, cps in checkpoints.items():\n",
    "    for cp in cps:\n",
    "        epoch_i = int(os.path.normpath(cp).split(os.sep)[-2])\n",
    "        output_p = os.path.join(output_path, exp_name, str(epoch_i))\n",
    "        os.makedirs(os.path.join(output_p, \"t1\"), exist_ok=True)\n",
    "        os.makedirs(os.path.join(output_p, \"t1ce\"), exist_ok=True)\n",
    "        os.makedirs(os.path.join(output_p, \"t2\"), exist_ok=True)\n",
    "        os.makedirs(os.path.join(output_p, \"flair\"), exist_ok=True)\n",
    "\n",
    "        inp_gen_cp = torch.load(cp)\n",
    "        inp_gen = BaselineInpaintingGenerator().to(device)\n",
    "        inp_gen.load_state_dict(inp_gen_cp[\"state_dict\"])\n",
    "\n",
    "        ssim_t1, ssim_t1ce, ssim_t2, ssim_flair = 0.0, 0.0, 0.0, 0.0\n",
    "        ms_ssim_t1, ms_ssim_t1ce, ms_ssim_t2, ms_ssim_flair = 0.0, 0.0, 0.0, 0.0\n",
    "        vifp_t1, vifp_t1ce, vifp_t2, vifp_flair = 0.0, 0.0, 0.0, 0.0\n",
    "        psnr_t1, psnr_t1ce, psnr_t2, psnr_flair = 0.0, 0.0, 0.0, 0.0\n",
    "        gmsd_t1, gmsd_t1ce, gmsd_t2, gmsd_flair = 0.0, 0.0, 0.0, 0.0\n",
    "        rmse_t1, rmse_t1ce, rmse_t2, rmse_flair = 0.0, 0.0, 0.0, 0.0\n",
    "\n",
    "        dataset = BraTSDataset(root=input_path, mode=\"val\", fixed_indices=indices)\n",
    "        loader = DataLoader(\n",
    "            dataset=dataset, batch_size=1, shuffle=False, num_workers=0, pin_memory=True\n",
    "        )\n",
    "\n",
    "        pb = tqdm(loader, desc=f\"{exp_name} - epoch: {epoch_i}\")\n",
    "        for i, batch in enumerate(pb):\n",
    "            t_t1 = batch[\"t1\"].to(device)\n",
    "            t_t1ce = batch[\"t1ce\"].to(device)\n",
    "            t_t2 = batch[\"t2\"].to(device)\n",
    "            t_flair = batch[\"flair\"].to(device)\n",
    "            t_m_brain = batch[\"mask_brain_shape\"].to(device)\n",
    "            t_m_shape = batch[\"mask_tumor_shape\"].to(device)\n",
    "            t_m_grade_mapped = map_grade(batch[\"mask_tumor_grade\"]).to(device)\n",
    "            t_m_background = 1 - t_m_shape\n",
    "            t_brain = torch.cat((t_t1, t_t1ce, t_t2, t_flair), 1)\n",
    "            brain_w_blank_mask = t_brain * t_m_background\n",
    "\n",
    "            p_brain = inp_gen(brain_w_blank_mask, t_m_grade_mapped)\n",
    "            out = p_brain * t_m_shape + t_brain * t_m_background\n",
    "            p_t1, p_t1ce, p_t2, p_flair = torch.split(\n",
    "                out, split_size_or_sections=1, dim=1\n",
    "            )\n",
    "\n",
    "            save_image(p_t1[0][0], fp=f\"{output_p}/t1/{i}.png\")\n",
    "            save_image(p_t1ce[0][0], fp=f\"{output_p}/t1ce/{i}.png\")\n",
    "            save_image(p_t2[0][0], fp=f\"{output_p}/t2/{i}.png\")\n",
    "            save_image(p_flair[0][0], fp=f\"{output_p}/flair/{i}.png\")\n",
    "\n",
    "            t_t1 = t_t1.cpu().detach()\n",
    "            t_t1ce = t_t1ce.cpu().detach()  \n",
    "            t_t2 = t_t2.cpu().detach()\n",
    "            t_flair = t_flair.cpu().detach()\n",
    "\n",
    "            p_t1 = p_t1.cpu().detach()\n",
    "            p_t1ce = p_t1ce.cpu().detach()\n",
    "            p_t2 = p_t2.cpu().detach()\n",
    "            p_flair = p_flair.cpu().detach()\n",
    "\n",
    "            ssim_t1 += ssim(t_t1, p_t1, data_range=1.0)\n",
    "            ssim_t1ce += ssim(t_t1ce, p_t1ce, data_range=1.0)\n",
    "            ssim_t2 += ssim(t_t2, p_t2, data_range=1.0)\n",
    "            ssim_flair += ssim(t_flair, p_flair, data_range=1.0)\n",
    "\n",
    "            ms_ssim_t1 += multi_scale_ssim(t_t1, p_t1, data_range=1.0)\n",
    "            ms_ssim_t1ce += multi_scale_ssim(t_t1ce, p_t1ce, data_range=1.0)\n",
    "            ms_ssim_t2 += multi_scale_ssim(t_t2, p_t2, data_range=1.0)\n",
    "            ms_ssim_flair += multi_scale_ssim(t_flair, p_flair, data_range=1.0)\n",
    "\n",
    "            vifp_t1 += vif_p(t_t1, p_t1, data_range=1.0)\n",
    "            vifp_t1ce += vif_p(t_t1ce, p_t1ce, data_range=1.0)\n",
    "            vifp_t2 += vif_p(t_t2, p_t2, data_range=1.0)\n",
    "            vifp_flair += vif_p(t_flair, p_flair, data_range=1.0)\n",
    "\n",
    "            psnr_t1 += psnr(t_t1, p_t1, data_range=1.0)\n",
    "            psnr_t1ce += psnr(t_t1ce, p_t1ce, data_range=1.0)\n",
    "            psnr_t2 += psnr(t_t2, p_t2, data_range=1.0)\n",
    "            psnr_flair += psnr(t_flair, p_flair, data_range=1.0)\n",
    "\n",
    "            gmsd_t1 += gmsd(t_t1, p_t1, data_range=1.0)\n",
    "            gmsd_t1ce += gmsd(t_t1ce, p_t1ce, data_range=1.0)\n",
    "            gmsd_t2 += gmsd(t_t2, p_t2, data_range=1.0)\n",
    "            gmsd_flair += gmsd(t_flair, p_flair, data_range=1.0)\n",
    "\n",
    "            rmse_t1 += mean_squared_error(\n",
    "                t_t1.numpy()[0][0], p_t1.numpy()[0][0], squared=False\n",
    "            )\n",
    "            rmse_t1ce += mean_squared_error(\n",
    "                t_t1ce.numpy()[0][0], p_t1ce.numpy()[0][0], squared=False\n",
    "            )\n",
    "            rmse_t2 += mean_squared_error(\n",
    "                t_t2.numpy()[0][0], p_t2.numpy()[0][0], squared=False\n",
    "            )\n",
    "            rmse_flair += mean_squared_error(\n",
    "                t_flair.numpy()[0][0], p_flair.numpy()[0][0], squared=False\n",
    "            )\n",
    "\n",
    "        total_b = len(pb)\n",
    "\n",
    "        ssim_t1 /= total_b\n",
    "        ssim_t1ce /= total_b\n",
    "        ssim_t2 /= total_b\n",
    "        ssim_flair /= total_b\n",
    "        ssim_avg = np.mean([ssim_t1, ssim_t1ce, ssim_t2, ssim_flair], dtype=np.float64)\n",
    "\n",
    "        ms_ssim_t1 /= total_b\n",
    "        ms_ssim_t1ce /= total_b\n",
    "        ms_ssim_t2 /= total_b\n",
    "        ms_ssim_flair /= total_b\n",
    "        ms_ssim_avg = np.mean([ms_ssim_t1, ms_ssim_t1ce, ms_ssim_t2, ms_ssim_flair], dtype=np.float64)\n",
    "\n",
    "        vifp_t1 /= total_b\n",
    "        vifp_t1ce /= total_b\n",
    "        vifp_t2 /= total_b\n",
    "        vifp_flair /= total_b\n",
    "        vifp_avg = np.mean([vifp_t1, vifp_t1ce, vifp_t2, vifp_flair], dtype=np.float64)\n",
    "\n",
    "        psnr_t1 /= total_b\n",
    "        psnr_t1ce /= total_b\n",
    "        psnr_t2 /= total_b\n",
    "        psnr_flair /= total_b\n",
    "        psnr_avg = np.mean([psnr_t1, psnr_t1ce, psnr_t2, psnr_flair], dtype=np.float64)\n",
    "\n",
    "        gmsd_t1 /= total_b\n",
    "        gmsd_t1ce /= total_b\n",
    "        gmsd_t2 /= total_b\n",
    "        gmsd_flair /= total_b\n",
    "        gmsd_avg = np.mean([gmsd_t1, gmsd_t1ce, gmsd_t2, gmsd_flair], dtype=np.float64)\n",
    "\n",
    "        rmse_t1 /= total_b\n",
    "        rmse_t1ce /= total_b\n",
    "        rmse_t2 /= total_b\n",
    "        rmse_flair /= total_b\n",
    "        rmse_avg = np.mean([rmse_t1, rmse_t1ce, rmse_t2, rmse_flair], dtype=np.float64)\n",
    "\n",
    "        df = df.append(\n",
    "            {\n",
    "                \"experiment\": exp_name,\n",
    "                \"epoch\": epoch_i,\n",
    "                \"ssim_avg\": ssim_avg,\n",
    "                \"ssim_t1\": ssim_t1.item(),\n",
    "                \"ssim_t1ce\": ssim_t1ce.item(),\n",
    "                \"ssim_t2\": ssim_t2.item(),\n",
    "                \"ssim_flair\": ssim_flair.item(),\n",
    "                \"ms_ssim_avg\": ms_ssim_avg,\n",
    "                \"ms_ssim_t1\": ms_ssim_t1.item(),\n",
    "                \"ms_ssim_t1ce\": ms_ssim_t1ce.item(),\n",
    "                \"ms_ssim_t2\": ms_ssim_t2.item(),\n",
    "                \"ms_ssim_flair\": ms_ssim_flair.item(),\n",
    "                \"vifp_avg\": vifp_avg,\n",
    "                \"vifp_t1\": vifp_t1.item(),\n",
    "                \"vifp_t1ce\": vifp_t1ce.item(),\n",
    "                \"vifp_t2\": vifp_t2.item(),\n",
    "                \"vifp_flair\": vifp_flair.item(),\n",
    "                \"psnr_avg\": psnr_avg,\n",
    "                \"psnr_t1\": psnr_t1.item(),\n",
    "                \"psnr_t1ce\": psnr_t1ce.item(),\n",
    "                \"psnr_t2\": psnr_t2.item(),\n",
    "                \"psnr_flair\": psnr_flair.item(),\n",
    "                \"gmsd_avg\": gmsd_avg,\n",
    "                \"gmsd_t1\": gmsd_t1.item(),\n",
    "                \"gmsd_t1ce\": gmsd_t1ce.item(),\n",
    "                \"gmsd_t2\": gmsd_t2.item(),\n",
    "                \"gmsd_flair\": gmsd_flair.item(),\n",
    "                \"rmse_avg\": rmse_avg,\n",
    "                \"rmse_t1\": rmse_t1,\n",
    "                \"rmse_t1ce\": rmse_t1ce,\n",
    "                \"rmse_t2\": rmse_t2,\n",
    "                \"rmse_flair\": rmse_flair,\n",
    "            },\n",
    "            ignore_index=True,\n",
    "        )\n",
    "\n",
    "df.to_csv(\"inpainting_scalars_only_last.csv\")\n"
   ]
  },
  {
   "cell_type": "code",
   "execution_count": 36,
   "metadata": {},
   "outputs": [
    {
     "data": {
      "text/html": [
       "<div>\n",
       "<style scoped>\n",
       "    .dataframe tbody tr th:only-of-type {\n",
       "        vertical-align: middle;\n",
       "    }\n",
       "\n",
       "    .dataframe tbody tr th {\n",
       "        vertical-align: top;\n",
       "    }\n",
       "\n",
       "    .dataframe thead th {\n",
       "        text-align: right;\n",
       "    }\n",
       "</style>\n",
       "<table border=\"1\" class=\"dataframe\">\n",
       "  <thead>\n",
       "    <tr style=\"text-align: right;\">\n",
       "      <th></th>\n",
       "      <th>experiment</th>\n",
       "      <th>epoch</th>\n",
       "      <th>gmsd_avg</th>\n",
       "      <th>gmsd_flair</th>\n",
       "      <th>gmsd_t1</th>\n",
       "      <th>gmsd_t1ce</th>\n",
       "      <th>gmsd_t2</th>\n",
       "      <th>ms_ssim_avg</th>\n",
       "      <th>ms_ssim_flair</th>\n",
       "      <th>ms_ssim_t1</th>\n",
       "      <th>...</th>\n",
       "      <th>ssim_avg</th>\n",
       "      <th>ssim_flair</th>\n",
       "      <th>ssim_t1</th>\n",
       "      <th>ssim_t1ce</th>\n",
       "      <th>ssim_t2</th>\n",
       "      <th>vifp_avg</th>\n",
       "      <th>vifp_flair</th>\n",
       "      <th>vifp_t1</th>\n",
       "      <th>vifp_t1ce</th>\n",
       "      <th>vifp_t2</th>\n",
       "    </tr>\n",
       "  </thead>\n",
       "  <tbody>\n",
       "    <tr>\n",
       "      <th>0</th>\n",
       "      <td>baseline25_epoch100</td>\n",
       "      <td>50</td>\n",
       "      <td>0.039045</td>\n",
       "      <td>0.045209</td>\n",
       "      <td>0.035634</td>\n",
       "      <td>0.031794</td>\n",
       "      <td>0.043545</td>\n",
       "      <td>0.984636</td>\n",
       "      <td>0.982181</td>\n",
       "      <td>0.985043</td>\n",
       "      <td>...</td>\n",
       "      <td>0.984636</td>\n",
       "      <td>0.982181</td>\n",
       "      <td>0.985043</td>\n",
       "      <td>0.987684</td>\n",
       "      <td>0.983634</td>\n",
       "      <td>0.892985</td>\n",
       "      <td>0.874966</td>\n",
       "      <td>0.906470</td>\n",
       "      <td>0.901971</td>\n",
       "      <td>0.888532</td>\n",
       "    </tr>\n",
       "    <tr>\n",
       "      <th>1</th>\n",
       "      <td>baseline25_epoch100</td>\n",
       "      <td>100</td>\n",
       "      <td>0.038798</td>\n",
       "      <td>0.044341</td>\n",
       "      <td>0.035628</td>\n",
       "      <td>0.031383</td>\n",
       "      <td>0.043841</td>\n",
       "      <td>0.983834</td>\n",
       "      <td>0.981362</td>\n",
       "      <td>0.984315</td>\n",
       "      <td>...</td>\n",
       "      <td>0.983834</td>\n",
       "      <td>0.981362</td>\n",
       "      <td>0.984315</td>\n",
       "      <td>0.986930</td>\n",
       "      <td>0.982728</td>\n",
       "      <td>0.886562</td>\n",
       "      <td>0.868165</td>\n",
       "      <td>0.901401</td>\n",
       "      <td>0.893908</td>\n",
       "      <td>0.882773</td>\n",
       "    </tr>\n",
       "    <tr>\n",
       "      <th>2</th>\n",
       "      <td>baseline25_epoch100</td>\n",
       "      <td>150</td>\n",
       "      <td>0.038670</td>\n",
       "      <td>0.044114</td>\n",
       "      <td>0.035334</td>\n",
       "      <td>0.031733</td>\n",
       "      <td>0.043499</td>\n",
       "      <td>0.983474</td>\n",
       "      <td>0.981146</td>\n",
       "      <td>0.983845</td>\n",
       "      <td>...</td>\n",
       "      <td>0.983474</td>\n",
       "      <td>0.981146</td>\n",
       "      <td>0.983845</td>\n",
       "      <td>0.986559</td>\n",
       "      <td>0.982347</td>\n",
       "      <td>0.885253</td>\n",
       "      <td>0.866809</td>\n",
       "      <td>0.900027</td>\n",
       "      <td>0.893563</td>\n",
       "      <td>0.880614</td>\n",
       "    </tr>\n",
       "    <tr>\n",
       "      <th>3</th>\n",
       "      <td>baseline25_epoch100</td>\n",
       "      <td>200</td>\n",
       "      <td>0.038883</td>\n",
       "      <td>0.044430</td>\n",
       "      <td>0.035643</td>\n",
       "      <td>0.031752</td>\n",
       "      <td>0.043708</td>\n",
       "      <td>0.983171</td>\n",
       "      <td>0.980809</td>\n",
       "      <td>0.983580</td>\n",
       "      <td>...</td>\n",
       "      <td>0.983171</td>\n",
       "      <td>0.980809</td>\n",
       "      <td>0.983580</td>\n",
       "      <td>0.986211</td>\n",
       "      <td>0.982083</td>\n",
       "      <td>0.883119</td>\n",
       "      <td>0.864206</td>\n",
       "      <td>0.898424</td>\n",
       "      <td>0.890253</td>\n",
       "      <td>0.879594</td>\n",
       "    </tr>\n",
       "    <tr>\n",
       "      <th>4</th>\n",
       "      <td>baseline100_epoch50</td>\n",
       "      <td>50</td>\n",
       "      <td>0.039022</td>\n",
       "      <td>0.045443</td>\n",
       "      <td>0.035236</td>\n",
       "      <td>0.031945</td>\n",
       "      <td>0.043464</td>\n",
       "      <td>0.984670</td>\n",
       "      <td>0.982004</td>\n",
       "      <td>0.985518</td>\n",
       "      <td>...</td>\n",
       "      <td>0.984670</td>\n",
       "      <td>0.982004</td>\n",
       "      <td>0.985518</td>\n",
       "      <td>0.987557</td>\n",
       "      <td>0.983599</td>\n",
       "      <td>0.893370</td>\n",
       "      <td>0.873902</td>\n",
       "      <td>0.909271</td>\n",
       "      <td>0.902804</td>\n",
       "      <td>0.887503</td>\n",
       "    </tr>\n",
       "    <tr>\n",
       "      <th>5</th>\n",
       "      <td>baseline100_epoch50</td>\n",
       "      <td>25</td>\n",
       "      <td>0.039256</td>\n",
       "      <td>0.046353</td>\n",
       "      <td>0.035350</td>\n",
       "      <td>0.031544</td>\n",
       "      <td>0.043776</td>\n",
       "      <td>0.985182</td>\n",
       "      <td>0.982490</td>\n",
       "      <td>0.985840</td>\n",
       "      <td>...</td>\n",
       "      <td>0.985182</td>\n",
       "      <td>0.982490</td>\n",
       "      <td>0.985840</td>\n",
       "      <td>0.988160</td>\n",
       "      <td>0.984239</td>\n",
       "      <td>0.897142</td>\n",
       "      <td>0.876850</td>\n",
       "      <td>0.911511</td>\n",
       "      <td>0.907282</td>\n",
       "      <td>0.892927</td>\n",
       "    </tr>\n",
       "    <tr>\n",
       "      <th>6</th>\n",
       "      <td>fft25_epoch100</td>\n",
       "      <td>50</td>\n",
       "      <td>0.039542</td>\n",
       "      <td>0.046953</td>\n",
       "      <td>0.035645</td>\n",
       "      <td>0.031511</td>\n",
       "      <td>0.044058</td>\n",
       "      <td>0.984513</td>\n",
       "      <td>0.982028</td>\n",
       "      <td>0.985050</td>\n",
       "      <td>...</td>\n",
       "      <td>0.984513</td>\n",
       "      <td>0.982028</td>\n",
       "      <td>0.985050</td>\n",
       "      <td>0.987526</td>\n",
       "      <td>0.983449</td>\n",
       "      <td>0.892717</td>\n",
       "      <td>0.876948</td>\n",
       "      <td>0.906848</td>\n",
       "      <td>0.900060</td>\n",
       "      <td>0.887012</td>\n",
       "    </tr>\n",
       "    <tr>\n",
       "      <th>7</th>\n",
       "      <td>fft25_epoch100</td>\n",
       "      <td>100</td>\n",
       "      <td>0.039174</td>\n",
       "      <td>0.045595</td>\n",
       "      <td>0.035635</td>\n",
       "      <td>0.031385</td>\n",
       "      <td>0.044080</td>\n",
       "      <td>0.983790</td>\n",
       "      <td>0.981412</td>\n",
       "      <td>0.984110</td>\n",
       "      <td>...</td>\n",
       "      <td>0.983790</td>\n",
       "      <td>0.981412</td>\n",
       "      <td>0.984110</td>\n",
       "      <td>0.986978</td>\n",
       "      <td>0.982661</td>\n",
       "      <td>0.886508</td>\n",
       "      <td>0.868185</td>\n",
       "      <td>0.901471</td>\n",
       "      <td>0.895412</td>\n",
       "      <td>0.880963</td>\n",
       "    </tr>\n",
       "    <tr>\n",
       "      <th>8</th>\n",
       "      <td>fft100_epoch50</td>\n",
       "      <td>25</td>\n",
       "      <td>0.039216</td>\n",
       "      <td>0.046702</td>\n",
       "      <td>0.035041</td>\n",
       "      <td>0.032154</td>\n",
       "      <td>0.042969</td>\n",
       "      <td>0.985137</td>\n",
       "      <td>0.982468</td>\n",
       "      <td>0.985982</td>\n",
       "      <td>...</td>\n",
       "      <td>0.985137</td>\n",
       "      <td>0.982468</td>\n",
       "      <td>0.985982</td>\n",
       "      <td>0.988017</td>\n",
       "      <td>0.984079</td>\n",
       "      <td>0.896397</td>\n",
       "      <td>0.876454</td>\n",
       "      <td>0.911863</td>\n",
       "      <td>0.906879</td>\n",
       "      <td>0.890394</td>\n",
       "    </tr>\n",
       "    <tr>\n",
       "      <th>9</th>\n",
       "      <td>fft100_epoch50</td>\n",
       "      <td>50</td>\n",
       "      <td>0.039039</td>\n",
       "      <td>0.046015</td>\n",
       "      <td>0.034766</td>\n",
       "      <td>0.031710</td>\n",
       "      <td>0.043665</td>\n",
       "      <td>0.984564</td>\n",
       "      <td>0.981932</td>\n",
       "      <td>0.985229</td>\n",
       "      <td>...</td>\n",
       "      <td>0.984564</td>\n",
       "      <td>0.981932</td>\n",
       "      <td>0.985229</td>\n",
       "      <td>0.987483</td>\n",
       "      <td>0.983613</td>\n",
       "      <td>0.893264</td>\n",
       "      <td>0.873764</td>\n",
       "      <td>0.906384</td>\n",
       "      <td>0.902704</td>\n",
       "      <td>0.890204</td>\n",
       "    </tr>\n",
       "    <tr>\n",
       "      <th>10</th>\n",
       "      <td>baseline25_epoch100</td>\n",
       "      <td>50</td>\n",
       "      <td>0.039045</td>\n",
       "      <td>0.045209</td>\n",
       "      <td>0.035634</td>\n",
       "      <td>0.031794</td>\n",
       "      <td>0.043545</td>\n",
       "      <td>0.985229</td>\n",
       "      <td>0.984149</td>\n",
       "      <td>0.985832</td>\n",
       "      <td>...</td>\n",
       "      <td>0.984636</td>\n",
       "      <td>0.982181</td>\n",
       "      <td>0.985043</td>\n",
       "      <td>0.987684</td>\n",
       "      <td>0.983634</td>\n",
       "      <td>0.892985</td>\n",
       "      <td>0.874966</td>\n",
       "      <td>0.906470</td>\n",
       "      <td>0.901971</td>\n",
       "      <td>0.888532</td>\n",
       "    </tr>\n",
       "    <tr>\n",
       "      <th>11</th>\n",
       "      <td>baseline25_epoch100</td>\n",
       "      <td>100</td>\n",
       "      <td>0.038798</td>\n",
       "      <td>0.044341</td>\n",
       "      <td>0.035628</td>\n",
       "      <td>0.031383</td>\n",
       "      <td>0.043841</td>\n",
       "      <td>0.984628</td>\n",
       "      <td>0.983561</td>\n",
       "      <td>0.984951</td>\n",
       "      <td>...</td>\n",
       "      <td>0.983834</td>\n",
       "      <td>0.981362</td>\n",
       "      <td>0.984315</td>\n",
       "      <td>0.986930</td>\n",
       "      <td>0.982728</td>\n",
       "      <td>0.886562</td>\n",
       "      <td>0.868165</td>\n",
       "      <td>0.901401</td>\n",
       "      <td>0.893908</td>\n",
       "      <td>0.882773</td>\n",
       "    </tr>\n",
       "    <tr>\n",
       "      <th>12</th>\n",
       "      <td>baseline25_epoch100</td>\n",
       "      <td>150</td>\n",
       "      <td>0.038670</td>\n",
       "      <td>0.044114</td>\n",
       "      <td>0.035334</td>\n",
       "      <td>0.031733</td>\n",
       "      <td>0.043499</td>\n",
       "      <td>0.984626</td>\n",
       "      <td>0.983654</td>\n",
       "      <td>0.985104</td>\n",
       "      <td>...</td>\n",
       "      <td>0.983474</td>\n",
       "      <td>0.981146</td>\n",
       "      <td>0.983845</td>\n",
       "      <td>0.986559</td>\n",
       "      <td>0.982347</td>\n",
       "      <td>0.885253</td>\n",
       "      <td>0.866809</td>\n",
       "      <td>0.900027</td>\n",
       "      <td>0.893563</td>\n",
       "      <td>0.880614</td>\n",
       "    </tr>\n",
       "    <tr>\n",
       "      <th>13</th>\n",
       "      <td>baseline25_epoch100</td>\n",
       "      <td>200</td>\n",
       "      <td>0.038883</td>\n",
       "      <td>0.044430</td>\n",
       "      <td>0.035643</td>\n",
       "      <td>0.031752</td>\n",
       "      <td>0.043708</td>\n",
       "      <td>0.984413</td>\n",
       "      <td>0.983271</td>\n",
       "      <td>0.984925</td>\n",
       "      <td>...</td>\n",
       "      <td>0.983171</td>\n",
       "      <td>0.980809</td>\n",
       "      <td>0.983580</td>\n",
       "      <td>0.986211</td>\n",
       "      <td>0.982083</td>\n",
       "      <td>0.883119</td>\n",
       "      <td>0.864206</td>\n",
       "      <td>0.898424</td>\n",
       "      <td>0.890253</td>\n",
       "      <td>0.879594</td>\n",
       "    </tr>\n",
       "    <tr>\n",
       "      <th>14</th>\n",
       "      <td>baseline100_epoch50</td>\n",
       "      <td>50</td>\n",
       "      <td>0.039022</td>\n",
       "      <td>0.045443</td>\n",
       "      <td>0.035236</td>\n",
       "      <td>0.031945</td>\n",
       "      <td>0.043464</td>\n",
       "      <td>0.985167</td>\n",
       "      <td>0.984150</td>\n",
       "      <td>0.985774</td>\n",
       "      <td>...</td>\n",
       "      <td>0.984670</td>\n",
       "      <td>0.982004</td>\n",
       "      <td>0.985518</td>\n",
       "      <td>0.987557</td>\n",
       "      <td>0.983599</td>\n",
       "      <td>0.893370</td>\n",
       "      <td>0.873902</td>\n",
       "      <td>0.909271</td>\n",
       "      <td>0.902804</td>\n",
       "      <td>0.887503</td>\n",
       "    </tr>\n",
       "    <tr>\n",
       "      <th>15</th>\n",
       "      <td>baseline100_epoch50</td>\n",
       "      <td>25</td>\n",
       "      <td>0.039256</td>\n",
       "      <td>0.046353</td>\n",
       "      <td>0.035350</td>\n",
       "      <td>0.031544</td>\n",
       "      <td>0.043776</td>\n",
       "      <td>0.985625</td>\n",
       "      <td>0.984710</td>\n",
       "      <td>0.986011</td>\n",
       "      <td>...</td>\n",
       "      <td>0.985182</td>\n",
       "      <td>0.982490</td>\n",
       "      <td>0.985840</td>\n",
       "      <td>0.988160</td>\n",
       "      <td>0.984239</td>\n",
       "      <td>0.897142</td>\n",
       "      <td>0.876850</td>\n",
       "      <td>0.911511</td>\n",
       "      <td>0.907282</td>\n",
       "      <td>0.892927</td>\n",
       "    </tr>\n",
       "    <tr>\n",
       "      <th>16</th>\n",
       "      <td>fft25_epoch100</td>\n",
       "      <td>50</td>\n",
       "      <td>0.039542</td>\n",
       "      <td>0.046953</td>\n",
       "      <td>0.035645</td>\n",
       "      <td>0.031511</td>\n",
       "      <td>0.044058</td>\n",
       "      <td>0.985076</td>\n",
       "      <td>0.983679</td>\n",
       "      <td>0.985809</td>\n",
       "      <td>...</td>\n",
       "      <td>0.984513</td>\n",
       "      <td>0.982028</td>\n",
       "      <td>0.985050</td>\n",
       "      <td>0.987526</td>\n",
       "      <td>0.983449</td>\n",
       "      <td>0.892717</td>\n",
       "      <td>0.876948</td>\n",
       "      <td>0.906848</td>\n",
       "      <td>0.900060</td>\n",
       "      <td>0.887012</td>\n",
       "    </tr>\n",
       "    <tr>\n",
       "      <th>17</th>\n",
       "      <td>fft25_epoch100</td>\n",
       "      <td>100</td>\n",
       "      <td>0.039174</td>\n",
       "      <td>0.045595</td>\n",
       "      <td>0.035635</td>\n",
       "      <td>0.031385</td>\n",
       "      <td>0.044080</td>\n",
       "      <td>0.984654</td>\n",
       "      <td>0.983837</td>\n",
       "      <td>0.984836</td>\n",
       "      <td>...</td>\n",
       "      <td>0.983790</td>\n",
       "      <td>0.981412</td>\n",
       "      <td>0.984110</td>\n",
       "      <td>0.986978</td>\n",
       "      <td>0.982661</td>\n",
       "      <td>0.886508</td>\n",
       "      <td>0.868185</td>\n",
       "      <td>0.901471</td>\n",
       "      <td>0.895412</td>\n",
       "      <td>0.880963</td>\n",
       "    </tr>\n",
       "    <tr>\n",
       "      <th>18</th>\n",
       "      <td>fft100_epoch50</td>\n",
       "      <td>25</td>\n",
       "      <td>0.039216</td>\n",
       "      <td>0.046702</td>\n",
       "      <td>0.035041</td>\n",
       "      <td>0.032154</td>\n",
       "      <td>0.042969</td>\n",
       "      <td>0.985548</td>\n",
       "      <td>0.984203</td>\n",
       "      <td>0.986362</td>\n",
       "      <td>...</td>\n",
       "      <td>0.985137</td>\n",
       "      <td>0.982468</td>\n",
       "      <td>0.985982</td>\n",
       "      <td>0.988017</td>\n",
       "      <td>0.984079</td>\n",
       "      <td>0.896397</td>\n",
       "      <td>0.876454</td>\n",
       "      <td>0.911863</td>\n",
       "      <td>0.906879</td>\n",
       "      <td>0.890394</td>\n",
       "    </tr>\n",
       "    <tr>\n",
       "      <th>19</th>\n",
       "      <td>fft100_epoch50</td>\n",
       "      <td>50</td>\n",
       "      <td>0.039039</td>\n",
       "      <td>0.046015</td>\n",
       "      <td>0.034766</td>\n",
       "      <td>0.031710</td>\n",
       "      <td>0.043665</td>\n",
       "      <td>0.985082</td>\n",
       "      <td>0.984008</td>\n",
       "      <td>0.985666</td>\n",
       "      <td>...</td>\n",
       "      <td>0.984564</td>\n",
       "      <td>0.981932</td>\n",
       "      <td>0.985229</td>\n",
       "      <td>0.987483</td>\n",
       "      <td>0.983613</td>\n",
       "      <td>0.893264</td>\n",
       "      <td>0.873764</td>\n",
       "      <td>0.906384</td>\n",
       "      <td>0.902704</td>\n",
       "      <td>0.890204</td>\n",
       "    </tr>\n",
       "  </tbody>\n",
       "</table>\n",
       "<p>20 rows × 32 columns</p>\n",
       "</div>"
      ],
      "text/plain": [
       "             experiment  epoch  gmsd_avg  gmsd_flair   gmsd_t1  gmsd_t1ce  \\\n",
       "0   baseline25_epoch100     50  0.039045    0.045209  0.035634   0.031794   \n",
       "1   baseline25_epoch100    100  0.038798    0.044341  0.035628   0.031383   \n",
       "2   baseline25_epoch100    150  0.038670    0.044114  0.035334   0.031733   \n",
       "3   baseline25_epoch100    200  0.038883    0.044430  0.035643   0.031752   \n",
       "4   baseline100_epoch50     50  0.039022    0.045443  0.035236   0.031945   \n",
       "5   baseline100_epoch50     25  0.039256    0.046353  0.035350   0.031544   \n",
       "6        fft25_epoch100     50  0.039542    0.046953  0.035645   0.031511   \n",
       "7        fft25_epoch100    100  0.039174    0.045595  0.035635   0.031385   \n",
       "8        fft100_epoch50     25  0.039216    0.046702  0.035041   0.032154   \n",
       "9        fft100_epoch50     50  0.039039    0.046015  0.034766   0.031710   \n",
       "10  baseline25_epoch100     50  0.039045    0.045209  0.035634   0.031794   \n",
       "11  baseline25_epoch100    100  0.038798    0.044341  0.035628   0.031383   \n",
       "12  baseline25_epoch100    150  0.038670    0.044114  0.035334   0.031733   \n",
       "13  baseline25_epoch100    200  0.038883    0.044430  0.035643   0.031752   \n",
       "14  baseline100_epoch50     50  0.039022    0.045443  0.035236   0.031945   \n",
       "15  baseline100_epoch50     25  0.039256    0.046353  0.035350   0.031544   \n",
       "16       fft25_epoch100     50  0.039542    0.046953  0.035645   0.031511   \n",
       "17       fft25_epoch100    100  0.039174    0.045595  0.035635   0.031385   \n",
       "18       fft100_epoch50     25  0.039216    0.046702  0.035041   0.032154   \n",
       "19       fft100_epoch50     50  0.039039    0.046015  0.034766   0.031710   \n",
       "\n",
       "     gmsd_t2  ms_ssim_avg  ms_ssim_flair  ms_ssim_t1  ...  ssim_avg  \\\n",
       "0   0.043545     0.984636       0.982181    0.985043  ...  0.984636   \n",
       "1   0.043841     0.983834       0.981362    0.984315  ...  0.983834   \n",
       "2   0.043499     0.983474       0.981146    0.983845  ...  0.983474   \n",
       "3   0.043708     0.983171       0.980809    0.983580  ...  0.983171   \n",
       "4   0.043464     0.984670       0.982004    0.985518  ...  0.984670   \n",
       "5   0.043776     0.985182       0.982490    0.985840  ...  0.985182   \n",
       "6   0.044058     0.984513       0.982028    0.985050  ...  0.984513   \n",
       "7   0.044080     0.983790       0.981412    0.984110  ...  0.983790   \n",
       "8   0.042969     0.985137       0.982468    0.985982  ...  0.985137   \n",
       "9   0.043665     0.984564       0.981932    0.985229  ...  0.984564   \n",
       "10  0.043545     0.985229       0.984149    0.985832  ...  0.984636   \n",
       "11  0.043841     0.984628       0.983561    0.984951  ...  0.983834   \n",
       "12  0.043499     0.984626       0.983654    0.985104  ...  0.983474   \n",
       "13  0.043708     0.984413       0.983271    0.984925  ...  0.983171   \n",
       "14  0.043464     0.985167       0.984150    0.985774  ...  0.984670   \n",
       "15  0.043776     0.985625       0.984710    0.986011  ...  0.985182   \n",
       "16  0.044058     0.985076       0.983679    0.985809  ...  0.984513   \n",
       "17  0.044080     0.984654       0.983837    0.984836  ...  0.983790   \n",
       "18  0.042969     0.985548       0.984203    0.986362  ...  0.985137   \n",
       "19  0.043665     0.985082       0.984008    0.985666  ...  0.984564   \n",
       "\n",
       "    ssim_flair   ssim_t1  ssim_t1ce   ssim_t2  vifp_avg  vifp_flair   vifp_t1  \\\n",
       "0     0.982181  0.985043   0.987684  0.983634  0.892985    0.874966  0.906470   \n",
       "1     0.981362  0.984315   0.986930  0.982728  0.886562    0.868165  0.901401   \n",
       "2     0.981146  0.983845   0.986559  0.982347  0.885253    0.866809  0.900027   \n",
       "3     0.980809  0.983580   0.986211  0.982083  0.883119    0.864206  0.898424   \n",
       "4     0.982004  0.985518   0.987557  0.983599  0.893370    0.873902  0.909271   \n",
       "5     0.982490  0.985840   0.988160  0.984239  0.897142    0.876850  0.911511   \n",
       "6     0.982028  0.985050   0.987526  0.983449  0.892717    0.876948  0.906848   \n",
       "7     0.981412  0.984110   0.986978  0.982661  0.886508    0.868185  0.901471   \n",
       "8     0.982468  0.985982   0.988017  0.984079  0.896397    0.876454  0.911863   \n",
       "9     0.981932  0.985229   0.987483  0.983613  0.893264    0.873764  0.906384   \n",
       "10    0.982181  0.985043   0.987684  0.983634  0.892985    0.874966  0.906470   \n",
       "11    0.981362  0.984315   0.986930  0.982728  0.886562    0.868165  0.901401   \n",
       "12    0.981146  0.983845   0.986559  0.982347  0.885253    0.866809  0.900027   \n",
       "13    0.980809  0.983580   0.986211  0.982083  0.883119    0.864206  0.898424   \n",
       "14    0.982004  0.985518   0.987557  0.983599  0.893370    0.873902  0.909271   \n",
       "15    0.982490  0.985840   0.988160  0.984239  0.897142    0.876850  0.911511   \n",
       "16    0.982028  0.985050   0.987526  0.983449  0.892717    0.876948  0.906848   \n",
       "17    0.981412  0.984110   0.986978  0.982661  0.886508    0.868185  0.901471   \n",
       "18    0.982468  0.985982   0.988017  0.984079  0.896397    0.876454  0.911863   \n",
       "19    0.981932  0.985229   0.987483  0.983613  0.893264    0.873764  0.906384   \n",
       "\n",
       "    vifp_t1ce   vifp_t2  \n",
       "0    0.901971  0.888532  \n",
       "1    0.893908  0.882773  \n",
       "2    0.893563  0.880614  \n",
       "3    0.890253  0.879594  \n",
       "4    0.902804  0.887503  \n",
       "5    0.907282  0.892927  \n",
       "6    0.900060  0.887012  \n",
       "7    0.895412  0.880963  \n",
       "8    0.906879  0.890394  \n",
       "9    0.902704  0.890204  \n",
       "10   0.901971  0.888532  \n",
       "11   0.893908  0.882773  \n",
       "12   0.893563  0.880614  \n",
       "13   0.890253  0.879594  \n",
       "14   0.902804  0.887503  \n",
       "15   0.907282  0.892927  \n",
       "16   0.900060  0.887012  \n",
       "17   0.895412  0.880963  \n",
       "18   0.906879  0.890394  \n",
       "19   0.902704  0.890204  \n",
       "\n",
       "[20 rows x 32 columns]"
      ]
     },
     "execution_count": 36,
     "metadata": {},
     "output_type": "execute_result"
    }
   ],
   "source": [
    "df"
   ]
  },
  {
   "cell_type": "code",
   "execution_count": null,
   "metadata": {},
   "outputs": [],
   "source": [
    "df_fid = pd.DataFrame(\n",
    "    {\"experiment\": pd.Series(dtype=\"str\"), \"epoch\": pd.Series(dtype=\"int\")}\n",
    ")\n",
    "\n",
    "for exp_name, cps in checkpoints.items():\n",
    "    for cp in cps:\n",
    "        epoch_i = int(os.path.normpath(cp).split(os.sep)[-2])\n",
    "        output_p = os.path.join(output_path, exp_name, str(epoch_i))\n",
    "\n",
    "        fid_t1, fid_t1ce, fid_t2, fid_flair = 0.0, 0.0, 0.0, 0.0\n",
    "\n",
    "        for t in [\"t1\", \"t1ce\", \"t2\", \"flair\"]:\n",
    "            org_dataloader = None\n",
    "            pred_dataloader = None\n",
    "\n",
    "            fid_metric = FID()\n",
    "            first_feats = fid_metric.compute_feats(org_dataloader)\n",
    "            second_feats = fid_metric.compute_feats(pred_dataloader)\n",
    "            fid: torch.Tensor = fid_metric(first_feats, second_feats)\n",
    "\n",
    "            if t == \"t1\": \n",
    "                fid_t1 = fid.item()\n",
    "            elif t == \"t1ce\": \n",
    "                fid_t1ce = fid.item()\n",
    "            elif t == \"t2\": \n",
    "                fid_t2 = fid.item()\n",
    "            else:\n",
    "                fid_flair = fid.item()\n",
    "\n",
    "        fid_avg = (fid_t1 + fid_t1ce + fid_t2 + fid_flair) / 4\n",
    "\n",
    "        df_fid = df_fid.append(\n",
    "            {\n",
    "                \"experiment\": exp_name,\n",
    "                \"epoch\": epoch_i,\n",
    "                \"fid_avg\": fid_avg,\n",
    "                \"fid_t1\": fid_t1,\n",
    "                \"fid_t1ce\": fid_t1ce,\n",
    "                \"fid_t2\": fid_t2,\n",
    "                \"fid_flair\":fid_flair\n",
    "            },\n",
    "            ignore_index=True,\n",
    "        )\n",
    "\n",
    "df_fid.to_csv(\"inpainting_scalars_only_last_fid.csv\")\n"
   ]
  },
  {
   "cell_type": "markdown",
   "metadata": {},
   "source": [
    "# Transfer original data"
   ]
  },
  {
   "cell_type": "code",
   "execution_count": 5,
   "metadata": {},
   "outputs": [
    {
     "name": "stderr",
     "output_type": "stream",
     "text": [
      "100%|██████████| 74/74 [05:04<00:00,  4.12s/it]\n"
     ]
    }
   ],
   "source": [
    "org_data_dump_path_t1= \"resources/fid/original_val/t1\"\n",
    "org_data_dump_path_t1ce= \"resources/fid/original_val/t1ce\"\n",
    "org_data_dump_path_t2= \"resources/fid/original_val/t2\"\n",
    "org_data_dump_path_flair= \"resources/fid/original_val/flair\"\n",
    "\n",
    "os.makedirs(org_data_dump_path_t1,exist_ok=True)\n",
    "os.makedirs(org_data_dump_path_t1ce,exist_ok=True)\n",
    "os.makedirs(org_data_dump_path_t2,exist_ok=True)\n",
    "os.makedirs(org_data_dump_path_flair,exist_ok=True)\n",
    "\n",
    "dataset = BraTSDataset(root=input_path, mode=\"val\", fixed_indices=indices)\n",
    "loader = DataLoader(dataset=dataset, batch_size=32, shuffle=False, num_workers=2, pin_memory=True)\n",
    "\n",
    "pb = tqdm(loader)\n",
    "sample_count = 0\n",
    "for batch in pb:\n",
    "    t_t1 = batch[\"t1\"]\n",
    "    t_t1ce = batch[\"t1ce\"]\n",
    "    t_t2 = batch[\"t2\"]\n",
    "    t_flair = batch[\"flair\"]\n",
    "\n",
    "    for i in range(t_t1.shape[0]):\n",
    "        save_image(t_t1[i][0], fp=f\"{org_data_dump_path_t1}/{sample_count}.png\")\n",
    "        save_image(t_t1ce[i][0], fp=f\"{org_data_dump_path_t1ce}/{sample_count}.png\")\n",
    "        save_image(t_t2[i][0], fp=f\"{org_data_dump_path_t2}/{sample_count}.png\")\n",
    "        save_image(t_flair[i][0], fp=f\"{org_data_dump_path_flair}/{sample_count}.png\")\n",
    "        sample_count += 1"
   ]
  },
  {
   "cell_type": "markdown",
   "metadata": {},
   "source": [
    "# Create a dataset from checkpoint"
   ]
  },
  {
   "cell_type": "code",
   "execution_count": 48,
   "metadata": {},
   "outputs": [
    {
     "data": {
      "text/plain": [
       "<All keys matched successfully>"
      ]
     },
     "execution_count": 48,
     "metadata": {},
     "output_type": "execute_result"
    }
   ],
   "source": [
    "gen_cp_path = \"results/baseline/21-01-2022 16-44-21/checkpoints/100/network_inpainting_gen.pth.tar\"\n",
    "\n",
    "inp_gen_cp = torch.load(gen_cp_path)\n",
    "inp_gen = BaselineInpaintingGenerator().to(device)\n",
    "inp_gen.load_state_dict(inp_gen_cp[\"state_dict\"])\n",
    "# inp_gen.eval()"
   ]
  },
  {
   "cell_type": "code",
   "execution_count": 49,
   "metadata": {},
   "outputs": [],
   "source": [
    "output_path = \"resources/fid/baseline_val\"\n",
    "\n",
    "output_path_t1 = os.path.join(output_path,\"t1\")\n",
    "output_path_t1ce = os.path.join(output_path,\"t1ce\")\n",
    "output_path_t2 = os.path.join(output_path,\"t2\")\n",
    "output_path_flair = os.path.join(output_path,\"flair\")\n",
    "\n",
    "os.makedirs(output_path_t1,exist_ok=True)\n",
    "os.makedirs(output_path_t1ce,exist_ok=True)\n",
    "os.makedirs(output_path_t2,exist_ok=True)\n",
    "os.makedirs(output_path_flair,exist_ok=True)\n",
    "\n",
    "dataset = BraTSDataset(root=input_path, mode=\"test\", fixed_indices=indices)\n",
    "loader = DataLoader(dataset=dataset, batch_size=1, shuffle=False)"
   ]
  },
  {
   "cell_type": "code",
   "execution_count": 50,
   "metadata": {},
   "outputs": [
    {
     "name": "stderr",
     "output_type": "stream",
     "text": [
      "100%|██████████| 4686/4686 [11:13<00:00,  6.96it/s]\n"
     ]
    }
   ],
   "source": [
    "pb = tqdm(loader)\n",
    "sample_count = 0\n",
    "for batch in pb:\n",
    "    t_t1 = batch[\"t1\"].to(device)\n",
    "    t_t1ce = batch[\"t1ce\"].to(device)\n",
    "    t_t2 = batch[\"t2\"].to(device)\n",
    "    t_flair = batch[\"flair\"].to(device)\n",
    "    t_m_brain = batch[\"mask_brain_shape\"].to(device)\n",
    "    t_m_shape = batch[\"mask_tumor_shape\"].to(device)\n",
    "    t_m_grade_mapped = map_grade(batch[\"mask_tumor_grade\"]).to(device)\n",
    "    t_m_background = 1 - t_m_shape\n",
    "    t_brain = torch.cat((t_t1, t_t1ce, t_t2, t_flair), 1)\n",
    "    brain_w_blank_mask = t_brain * t_m_background\n",
    "\n",
    "    p_brain = inp_gen(brain_w_blank_mask, t_m_grade_mapped)\n",
    "    out = p_brain * t_m_shape + t_brain * t_m_background\n",
    "    t1, t1ce, t2, flair = torch.split(out, split_size_or_sections=1, dim=1)\n",
    "    \n",
    "    for i in range(t_t1.shape[0]):\n",
    "        save_image(t1[i], fp=f\"{output_path_t1}/{sample_count}.png\")\n",
    "        save_image(t1ce[i], fp=f\"{output_path_t1ce}/{sample_count}.png\")\n",
    "        save_image(t2[i], fp=f\"{output_path_t2}/{sample_count}.png\")\n",
    "        save_image(flair[i], fp=f\"{output_path_flair}/{sample_count}.png\")\n",
    "        sample_count += 1"
   ]
  },
  {
   "cell_type": "markdown",
   "metadata": {},
   "source": [
    "# FID calculations"
   ]
  },
  {
   "cell_type": "markdown",
   "metadata": {},
   "source": [
    "## baseline25"
   ]
  },
  {
   "cell_type": "code",
   "execution_count": 23,
   "metadata": {},
   "outputs": [
    {
     "name": "stderr",
     "output_type": "stream",
     "text": [
      "100%|██████████| 531/531 [00:21<00:00, 24.82it/s]\n",
      "100%|██████████| 531/531 [00:21<00:00, 24.69it/s]\n"
     ]
    },
    {
     "name": "stdout",
     "output_type": "stream",
     "text": [
      "FID:  3.739898363986697\n"
     ]
    },
    {
     "name": "stderr",
     "output_type": "stream",
     "text": [
      "100%|██████████| 531/531 [00:24<00:00, 21.73it/s]\n",
      "100%|██████████| 531/531 [00:21<00:00, 24.52it/s]\n"
     ]
    },
    {
     "name": "stdout",
     "output_type": "stream",
     "text": [
      "FID:  3.61967893264935\n"
     ]
    },
    {
     "name": "stderr",
     "output_type": "stream",
     "text": [
      "100%|██████████| 531/531 [00:25<00:00, 21.20it/s]\n",
      "100%|██████████| 531/531 [00:20<00:00, 26.51it/s]\n"
     ]
    },
    {
     "name": "stdout",
     "output_type": "stream",
     "text": [
      "FID:  2.4271964313463457\n"
     ]
    },
    {
     "name": "stderr",
     "output_type": "stream",
     "text": [
      "100%|██████████| 531/531 [00:23<00:00, 22.50it/s]\n",
      "100%|██████████| 531/531 [00:21<00:00, 25.09it/s]\n"
     ]
    },
    {
     "name": "stdout",
     "output_type": "stream",
     "text": [
      "FID:  4.9315633435397785\n"
     ]
    }
   ],
   "source": [
    "%run -m pytorch_fid \"resources/inpainting_eval/baseline25_epoch100/50/t1\" \"resources/fid/baseline_val/t1\" --batch-size 1 --device cuda:0 --num-workers 0 \n",
    "%run -m pytorch_fid \"resources/inpainting_eval/baseline25_epoch100/50/t1ce\" \"resources/fid/baseline_val/t1ce\" --batch-size 1 --device cuda:0 --num-workers 0 \n",
    "%run -m pytorch_fid \"resources/inpainting_eval/baseline25_epoch100/50/t2\" \"resources/fid/baseline_val/t2\" --batch-size 1 --device cuda:0 --num-workers 0 \n",
    "%run -m pytorch_fid \"resources/inpainting_eval/baseline25_epoch100/50/flair\" \"resources/fid/baseline_val/flair\" --batch-size 1 --device cuda:0 --num-workers 0 "
   ]
  },
  {
   "cell_type": "code",
   "execution_count": 34,
   "metadata": {},
   "outputs": [
    {
     "name": "stderr",
     "output_type": "stream",
     "text": [
      "100%|██████████| 531/531 [00:29<00:00, 18.17it/s]\n",
      "100%|██████████| 531/531 [00:25<00:00, 20.45it/s]\n"
     ]
    },
    {
     "name": "stdout",
     "output_type": "stream",
     "text": [
      "FID:  1.3039606534730126\n"
     ]
    },
    {
     "name": "stderr",
     "output_type": "stream",
     "text": [
      "100%|██████████| 531/531 [00:30<00:00, 17.69it/s]\n",
      "100%|██████████| 531/531 [00:25<00:00, 21.14it/s]\n"
     ]
    },
    {
     "name": "stdout",
     "output_type": "stream",
     "text": [
      "FID:  1.5510190791481477\n"
     ]
    },
    {
     "name": "stderr",
     "output_type": "stream",
     "text": [
      "100%|██████████| 531/531 [00:25<00:00, 21.10it/s]\n",
      "100%|██████████| 531/531 [00:20<00:00, 26.48it/s]\n"
     ]
    },
    {
     "name": "stdout",
     "output_type": "stream",
     "text": [
      "FID:  0.9357614616201886\n"
     ]
    },
    {
     "name": "stderr",
     "output_type": "stream",
     "text": [
      "100%|██████████| 531/531 [00:24<00:00, 21.88it/s]\n",
      "100%|██████████| 531/531 [00:20<00:00, 26.42it/s]\n"
     ]
    },
    {
     "name": "stdout",
     "output_type": "stream",
     "text": [
      "FID:  1.7225809989778895\n"
     ]
    }
   ],
   "source": [
    "%run -m pytorch_fid \"resources/inpainting_eval/baseline25_epoch100/95/t1\" \"resources/fid/baseline_val/t1\" --batch-size 1 --device cuda:0 --num-workers 0 \n",
    "%run -m pytorch_fid \"resources/inpainting_eval/baseline25_epoch100/95/t1ce\" \"resources/fid/baseline_val/t1ce\" --batch-size 1 --device cuda:0 --num-workers 0 \n",
    "%run -m pytorch_fid \"resources/inpainting_eval/baseline25_epoch100/95/t2\" \"resources/fid/baseline_val/t2\" --batch-size 1 --device cuda:0 --num-workers 0 \n",
    "%run -m pytorch_fid \"resources/inpainting_eval/baseline25_epoch100/95/flair\" \"resources/fid/baseline_val/flair\" --batch-size 1 --device cuda:0 --num-workers 0 "
   ]
  },
  {
   "cell_type": "code",
   "execution_count": 25,
   "metadata": {},
   "outputs": [
    {
     "name": "stderr",
     "output_type": "stream",
     "text": [
      "100%|██████████| 531/531 [00:24<00:00, 21.97it/s]\n",
      "100%|██████████| 531/531 [00:21<00:00, 24.46it/s]\n"
     ]
    },
    {
     "name": "stdout",
     "output_type": "stream",
     "text": [
      "FID:  2.1265700919149424\n"
     ]
    },
    {
     "name": "stderr",
     "output_type": "stream",
     "text": [
      "100%|██████████| 531/531 [00:24<00:00, 21.44it/s]\n",
      "100%|██████████| 531/531 [00:20<00:00, 25.65it/s]\n"
     ]
    },
    {
     "name": "stdout",
     "output_type": "stream",
     "text": [
      "FID:  2.0094137306051323\n"
     ]
    },
    {
     "name": "stderr",
     "output_type": "stream",
     "text": [
      "100%|██████████| 531/531 [00:23<00:00, 22.68it/s]\n",
      "100%|██████████| 531/531 [00:20<00:00, 26.54it/s]\n"
     ]
    },
    {
     "name": "stdout",
     "output_type": "stream",
     "text": [
      "FID:  1.223871717844247\n"
     ]
    },
    {
     "name": "stderr",
     "output_type": "stream",
     "text": [
      "100%|██████████| 531/531 [00:24<00:00, 21.30it/s]\n",
      "100%|██████████| 531/531 [00:21<00:00, 25.16it/s]\n"
     ]
    },
    {
     "name": "stdout",
     "output_type": "stream",
     "text": [
      "FID:  2.510254229232231\n"
     ]
    }
   ],
   "source": [
    "%run -m pytorch_fid \"resources/inpainting_eval/baseline25_epoch100/150/t1\" \"resources/fid/baseline_val/t1\" --batch-size 1 --device cuda:0 --num-workers 0 \n",
    "%run -m pytorch_fid \"resources/inpainting_eval/baseline25_epoch100/150/t1ce\" \"resources/fid/baseline_val/t1ce\" --batch-size 1 --device cuda:0 --num-workers 0 \n",
    "%run -m pytorch_fid \"resources/inpainting_eval/baseline25_epoch100/150/t2\" \"resources/fid/baseline_val/t2\" --batch-size 1 --device cuda:0 --num-workers 0 \n",
    "%run -m pytorch_fid \"resources/inpainting_eval/baseline25_epoch100/150/flair\" \"resources/fid/baseline_val/flair\" --batch-size 1 --device cuda:0 --num-workers 0 "
   ]
  },
  {
   "cell_type": "code",
   "execution_count": 26,
   "metadata": {},
   "outputs": [
    {
     "name": "stderr",
     "output_type": "stream",
     "text": [
      "100%|██████████| 531/531 [00:24<00:00, 21.60it/s]\n",
      "100%|██████████| 531/531 [00:20<00:00, 25.78it/s]\n"
     ]
    },
    {
     "name": "stdout",
     "output_type": "stream",
     "text": [
      "FID:  2.6362881427830303\n"
     ]
    },
    {
     "name": "stderr",
     "output_type": "stream",
     "text": [
      "100%|██████████| 531/531 [00:24<00:00, 21.83it/s]\n",
      "100%|██████████| 531/531 [00:20<00:00, 25.80it/s]\n"
     ]
    },
    {
     "name": "stdout",
     "output_type": "stream",
     "text": [
      "FID:  2.7715125629683826\n"
     ]
    },
    {
     "name": "stderr",
     "output_type": "stream",
     "text": [
      "100%|██████████| 531/531 [00:24<00:00, 21.68it/s]\n",
      "100%|██████████| 531/531 [00:21<00:00, 24.64it/s]\n"
     ]
    },
    {
     "name": "stdout",
     "output_type": "stream",
     "text": [
      "FID:  1.522992247770759\n"
     ]
    },
    {
     "name": "stderr",
     "output_type": "stream",
     "text": [
      "100%|██████████| 531/531 [00:24<00:00, 21.66it/s]\n",
      "100%|██████████| 531/531 [00:22<00:00, 23.75it/s]\n"
     ]
    },
    {
     "name": "stdout",
     "output_type": "stream",
     "text": [
      "FID:  3.262191305283835\n"
     ]
    }
   ],
   "source": [
    "%run -m pytorch_fid \"resources/inpainting_eval/baseline25_epoch100/200/t1\" \"resources/fid/baseline_val/t1\" --batch-size 1 --device cuda:0 --num-workers 0 \n",
    "%run -m pytorch_fid \"resources/inpainting_eval/baseline25_epoch100/200/t1ce\" \"resources/fid/baseline_val/t1ce\" --batch-size 1 --device cuda:0 --num-workers 0 \n",
    "%run -m pytorch_fid \"resources/inpainting_eval/baseline25_epoch100/200/t2\" \"resources/fid/baseline_val/t2\" --batch-size 1 --device cuda:0 --num-workers 0 \n",
    "%run -m pytorch_fid \"resources/inpainting_eval/baseline25_epoch100/200/flair\" \"resources/fid/baseline_val/flair\" --batch-size 1 --device cuda:0 --num-workers 0 "
   ]
  },
  {
   "cell_type": "markdown",
   "metadata": {},
   "source": [
    "## baseline100"
   ]
  },
  {
   "cell_type": "code",
   "execution_count": 27,
   "metadata": {},
   "outputs": [
    {
     "name": "stderr",
     "output_type": "stream",
     "text": [
      "100%|██████████| 531/531 [00:23<00:00, 22.37it/s]\n",
      "100%|██████████| 531/531 [00:20<00:00, 25.53it/s]\n"
     ]
    },
    {
     "name": "stdout",
     "output_type": "stream",
     "text": [
      "FID:  7.1517692044566274\n"
     ]
    },
    {
     "name": "stderr",
     "output_type": "stream",
     "text": [
      "100%|██████████| 531/531 [00:24<00:00, 22.05it/s]\n",
      "100%|██████████| 531/531 [00:20<00:00, 26.43it/s]\n"
     ]
    },
    {
     "name": "stdout",
     "output_type": "stream",
     "text": [
      "FID:  7.570413118819886\n"
     ]
    },
    {
     "name": "stderr",
     "output_type": "stream",
     "text": [
      "100%|██████████| 531/531 [00:24<00:00, 22.01it/s]\n",
      "100%|██████████| 531/531 [00:20<00:00, 26.17it/s]\n"
     ]
    },
    {
     "name": "stdout",
     "output_type": "stream",
     "text": [
      "FID:  4.884765980235471\n"
     ]
    },
    {
     "name": "stderr",
     "output_type": "stream",
     "text": [
      "100%|██████████| 531/531 [00:23<00:00, 22.41it/s]\n",
      "100%|██████████| 531/531 [00:19<00:00, 26.63it/s]\n"
     ]
    },
    {
     "name": "stdout",
     "output_type": "stream",
     "text": [
      "FID:  9.272935945356835\n"
     ]
    }
   ],
   "source": [
    "%run -m pytorch_fid \"resources/inpainting_eval/baseline100_epoch50/25/t1\" \"resources/fid/baseline_val/t1\" --batch-size 1 --device cuda:0 --num-workers 0 \n",
    "%run -m pytorch_fid \"resources/inpainting_eval/baseline100_epoch50/25/t1ce\" \"resources/fid/baseline_val/t1ce\" --batch-size 1 --device cuda:0 --num-workers 0 \n",
    "%run -m pytorch_fid \"resources/inpainting_eval/baseline100_epoch50/25/t2\" \"resources/fid/baseline_val/t2\" --batch-size 1 --device cuda:0 --num-workers 0 \n",
    "%run -m pytorch_fid \"resources/inpainting_eval/baseline100_epoch50/25/flair\" \"resources/fid/baseline_val/flair\" --batch-size 1 --device cuda:0 --num-workers 0 "
   ]
  },
  {
   "cell_type": "code",
   "execution_count": 28,
   "metadata": {},
   "outputs": [
    {
     "name": "stderr",
     "output_type": "stream",
     "text": [
      "100%|██████████| 531/531 [00:23<00:00, 22.38it/s]\n",
      "100%|██████████| 531/531 [00:20<00:00, 26.25it/s]\n"
     ]
    },
    {
     "name": "stdout",
     "output_type": "stream",
     "text": [
      "FID:  5.944595280816685\n"
     ]
    },
    {
     "name": "stderr",
     "output_type": "stream",
     "text": [
      "100%|██████████| 531/531 [00:23<00:00, 22.35it/s]\n",
      "100%|██████████| 531/531 [00:19<00:00, 26.66it/s]\n"
     ]
    },
    {
     "name": "stdout",
     "output_type": "stream",
     "text": [
      "FID:  6.435841006876018\n"
     ]
    },
    {
     "name": "stderr",
     "output_type": "stream",
     "text": [
      "100%|██████████| 531/531 [00:23<00:00, 22.34it/s]\n",
      "100%|██████████| 531/531 [00:20<00:00, 26.15it/s]\n"
     ]
    },
    {
     "name": "stdout",
     "output_type": "stream",
     "text": [
      "FID:  4.002480941558019\n"
     ]
    },
    {
     "name": "stderr",
     "output_type": "stream",
     "text": [
      "100%|██████████| 531/531 [00:23<00:00, 22.63it/s]\n",
      "100%|██████████| 531/531 [00:20<00:00, 26.47it/s]\n"
     ]
    },
    {
     "name": "stdout",
     "output_type": "stream",
     "text": [
      "FID:  8.454164204194086\n"
     ]
    }
   ],
   "source": [
    "%run -m pytorch_fid \"resources/inpainting_eval/baseline100_epoch50/50/t1\" \"resources/fid/baseline_val/t1\" --batch-size 1 --device cuda:0 --num-workers 0 \n",
    "%run -m pytorch_fid \"resources/inpainting_eval/baseline100_epoch50/50/t1ce\" \"resources/fid/baseline_val/t1ce\" --batch-size 1 --device cuda:0 --num-workers 0 \n",
    "%run -m pytorch_fid \"resources/inpainting_eval/baseline100_epoch50/50/t2\" \"resources/fid/baseline_val/t2\" --batch-size 1 --device cuda:0 --num-workers 0 \n",
    "%run -m pytorch_fid \"resources/inpainting_eval/baseline100_epoch50/50/flair\" \"resources/fid/baseline_val/flair\" --batch-size 1 --device cuda:0 --num-workers 0 "
   ]
  },
  {
   "cell_type": "markdown",
   "metadata": {},
   "source": [
    "## fft25"
   ]
  },
  {
   "cell_type": "code",
   "execution_count": 29,
   "metadata": {},
   "outputs": [
    {
     "name": "stderr",
     "output_type": "stream",
     "text": [
      "100%|██████████| 531/531 [00:25<00:00, 21.23it/s]\n",
      "100%|██████████| 531/531 [00:19<00:00, 26.62it/s]\n"
     ]
    },
    {
     "name": "stdout",
     "output_type": "stream",
     "text": [
      "FID:  5.836685245464565\n"
     ]
    },
    {
     "name": "stderr",
     "output_type": "stream",
     "text": [
      "100%|██████████| 531/531 [00:25<00:00, 21.09it/s]\n",
      "100%|██████████| 531/531 [00:22<00:00, 23.49it/s]\n"
     ]
    },
    {
     "name": "stdout",
     "output_type": "stream",
     "text": [
      "FID:  5.81745288756602\n"
     ]
    },
    {
     "name": "stderr",
     "output_type": "stream",
     "text": [
      "100%|██████████| 531/531 [00:26<00:00, 19.99it/s]\n",
      "100%|██████████| 531/531 [00:23<00:00, 22.84it/s]\n"
     ]
    },
    {
     "name": "stdout",
     "output_type": "stream",
     "text": [
      "FID:  4.028647513176935\n"
     ]
    },
    {
     "name": "stderr",
     "output_type": "stream",
     "text": [
      "100%|██████████| 531/531 [00:26<00:00, 19.93it/s]\n",
      "100%|██████████| 531/531 [00:23<00:00, 22.42it/s]\n"
     ]
    },
    {
     "name": "stdout",
     "output_type": "stream",
     "text": [
      "FID:  8.304132165911824\n"
     ]
    }
   ],
   "source": [
    "%run -m pytorch_fid \"resources/inpainting_eval/fft25_epoch100/50/t1\" \"resources/fid/baseline_val/t1\" --batch-size 1 --device cuda:0 --num-workers 0 \n",
    "%run -m pytorch_fid \"resources/inpainting_eval/fft25_epoch100/50/t1ce\" \"resources/fid/baseline_val/t1ce\" --batch-size 1 --device cuda:0 --num-workers 0 \n",
    "%run -m pytorch_fid \"resources/inpainting_eval/fft25_epoch100/50/t2\" \"resources/fid/baseline_val/t2\" --batch-size 1 --device cuda:0 --num-workers 0 \n",
    "%run -m pytorch_fid \"resources/inpainting_eval/fft25_epoch100/50/flair\" \"resources/fid/baseline_val/flair\" --batch-size 1 --device cuda:0 --num-workers 0 "
   ]
  },
  {
   "cell_type": "code",
   "execution_count": 37,
   "metadata": {},
   "outputs": [
    {
     "name": "stderr",
     "output_type": "stream",
     "text": [
      "100%|██████████| 531/531 [00:38<00:00, 13.85it/s]\n",
      "100%|██████████| 531/531 [00:28<00:00, 18.84it/s]\n"
     ]
    },
    {
     "name": "stdout",
     "output_type": "stream",
     "text": [
      "FID:  4.684026823722121\n"
     ]
    },
    {
     "name": "stderr",
     "output_type": "stream",
     "text": [
      "100%|██████████| 531/531 [00:33<00:00, 16.03it/s]\n",
      "100%|██████████| 531/531 [00:26<00:00, 19.94it/s]\n"
     ]
    },
    {
     "name": "stdout",
     "output_type": "stream",
     "text": [
      "FID:  4.887460010344967\n"
     ]
    },
    {
     "name": "stderr",
     "output_type": "stream",
     "text": [
      "100%|██████████| 531/531 [00:32<00:00, 16.49it/s]\n",
      "100%|██████████| 531/531 [00:26<00:00, 20.03it/s]\n"
     ]
    },
    {
     "name": "stdout",
     "output_type": "stream",
     "text": [
      "FID:  3.387399876090228\n"
     ]
    },
    {
     "name": "stderr",
     "output_type": "stream",
     "text": [
      "100%|██████████| 531/531 [00:32<00:00, 16.48it/s]\n",
      "100%|██████████| 531/531 [00:27<00:00, 19.25it/s]\n"
     ]
    },
    {
     "name": "stdout",
     "output_type": "stream",
     "text": [
      "FID:  7.195166964237217\n"
     ]
    }
   ],
   "source": [
    "%run -m pytorch_fid \"resources/inpainting_eval/fft25_epoch100/95/t1\" \"resources/fid/baseline_val/t1\" --batch-size 1 --device cuda:0 --num-workers 0 \n",
    "%run -m pytorch_fid \"resources/inpainting_eval/fft25_epoch100/95/t1ce\" \"resources/fid/baseline_val/t1ce\" --batch-size 1 --device cuda:0 --num-workers 0 \n",
    "%run -m pytorch_fid \"resources/inpainting_eval/fft25_epoch100/95/t2\" \"resources/fid/baseline_val/t2\" --batch-size 1 --device cuda:0 --num-workers 0 \n",
    "%run -m pytorch_fid \"resources/inpainting_eval/fft25_epoch100/95/flair\" \"resources/fid/baseline_val/flair\" --batch-size 1 --device cuda:0 --num-workers 0 "
   ]
  },
  {
   "cell_type": "markdown",
   "metadata": {},
   "source": [
    "## fft100"
   ]
  },
  {
   "cell_type": "code",
   "execution_count": 31,
   "metadata": {},
   "outputs": [
    {
     "name": "stderr",
     "output_type": "stream",
     "text": [
      "100%|██████████| 531/531 [00:25<00:00, 20.84it/s]\n",
      "100%|██████████| 531/531 [00:20<00:00, 25.78it/s]\n"
     ]
    },
    {
     "name": "stdout",
     "output_type": "stream",
     "text": [
      "FID:  8.375099506788018\n"
     ]
    },
    {
     "name": "stderr",
     "output_type": "stream",
     "text": [
      "100%|██████████| 531/531 [00:24<00:00, 22.07it/s]\n",
      "100%|██████████| 531/531 [00:20<00:00, 26.38it/s]\n"
     ]
    },
    {
     "name": "stdout",
     "output_type": "stream",
     "text": [
      "FID:  7.4673527677825575\n"
     ]
    },
    {
     "name": "stderr",
     "output_type": "stream",
     "text": [
      "100%|██████████| 531/531 [00:24<00:00, 21.57it/s]\n",
      "100%|██████████| 531/531 [00:20<00:00, 26.14it/s]\n"
     ]
    },
    {
     "name": "stdout",
     "output_type": "stream",
     "text": [
      "FID:  4.863713436322769\n"
     ]
    },
    {
     "name": "stderr",
     "output_type": "stream",
     "text": [
      "100%|██████████| 531/531 [00:24<00:00, 21.55it/s]\n",
      "100%|██████████| 531/531 [00:20<00:00, 25.57it/s]\n"
     ]
    },
    {
     "name": "stdout",
     "output_type": "stream",
     "text": [
      "FID:  9.783729273222093\n"
     ]
    }
   ],
   "source": [
    "%run -m pytorch_fid \"resources/inpainting_eval/fft100_epoch50/25/t1\" \"resources/fid/baseline_val/t1\" --batch-size 1 --device cuda:0 --num-workers 0 \n",
    "%run -m pytorch_fid \"resources/inpainting_eval/fft100_epoch50/25/t1ce\" \"resources/fid/baseline_val/t1ce\" --batch-size 1 --device cuda:0 --num-workers 0 \n",
    "%run -m pytorch_fid \"resources/inpainting_eval/fft100_epoch50/25/t2\" \"resources/fid/baseline_val/t2\" --batch-size 1 --device cuda:0 --num-workers 0 \n",
    "%run -m pytorch_fid \"resources/inpainting_eval/fft100_epoch50/25/flair\" \"resources/fid/baseline_val/flair\" --batch-size 1 --device cuda:0 --num-workers 0 "
   ]
  },
  {
   "cell_type": "code",
   "execution_count": 32,
   "metadata": {},
   "outputs": [
    {
     "name": "stderr",
     "output_type": "stream",
     "text": [
      "100%|██████████| 531/531 [00:23<00:00, 22.33it/s]\n",
      "100%|██████████| 531/531 [00:20<00:00, 26.08it/s]\n"
     ]
    },
    {
     "name": "stdout",
     "output_type": "stream",
     "text": [
      "FID:  7.1421244882321275\n"
     ]
    },
    {
     "name": "stderr",
     "output_type": "stream",
     "text": [
      "100%|██████████| 531/531 [00:23<00:00, 22.84it/s]\n",
      "100%|██████████| 531/531 [00:20<00:00, 26.50it/s]\n"
     ]
    },
    {
     "name": "stdout",
     "output_type": "stream",
     "text": [
      "FID:  6.208625779067688\n"
     ]
    },
    {
     "name": "stderr",
     "output_type": "stream",
     "text": [
      "100%|██████████| 531/531 [00:23<00:00, 22.37it/s]\n",
      "100%|██████████| 531/531 [00:20<00:00, 26.30it/s]\n"
     ]
    },
    {
     "name": "stdout",
     "output_type": "stream",
     "text": [
      "FID:  3.978288742802988\n"
     ]
    },
    {
     "name": "stderr",
     "output_type": "stream",
     "text": [
      "100%|██████████| 531/531 [00:23<00:00, 22.80it/s]\n",
      "100%|██████████| 531/531 [00:19<00:00, 26.93it/s]\n"
     ]
    },
    {
     "name": "stdout",
     "output_type": "stream",
     "text": [
      "FID:  8.334207609269441\n"
     ]
    }
   ],
   "source": [
    "%run -m pytorch_fid \"resources/inpainting_eval/fft100_epoch50/50/t1\" \"resources/fid/baseline_val/t1\" --batch-size 1 --device cuda:0 --num-workers 0 \n",
    "%run -m pytorch_fid \"resources/inpainting_eval/fft100_epoch50/50/t1ce\" \"resources/fid/baseline_val/t1ce\" --batch-size 1 --device cuda:0 --num-workers 0 \n",
    "%run -m pytorch_fid \"resources/inpainting_eval/fft100_epoch50/50/t2\" \"resources/fid/baseline_val/t2\" --batch-size 1 --device cuda:0 --num-workers 0 \n",
    "%run -m pytorch_fid \"resources/inpainting_eval/fft100_epoch50/50/flair\" \"resources/fid/baseline_val/flair\" --batch-size 1 --device cuda:0 --num-workers 0 "
   ]
  }
 ],
 "metadata": {
  "interpreter": {
   "hash": "dfb674ec9a425cc82138a173e2de945da38ec7669d1115ddccf88fe65c0e66bf"
  },
  "kernelspec": {
   "display_name": "Python 3.8.12 ('mlmi')",
   "language": "python",
   "name": "python3"
  },
  "language_info": {
   "codemirror_mode": {
    "name": "ipython",
    "version": 3
   },
   "file_extension": ".py",
   "mimetype": "text/x-python",
   "name": "python",
   "nbconvert_exporter": "python",
   "pygments_lexer": "ipython3",
   "version": "3.9.5"
  },
  "orig_nbformat": 4
 },
 "nbformat": 4,
 "nbformat_minor": 2
}
