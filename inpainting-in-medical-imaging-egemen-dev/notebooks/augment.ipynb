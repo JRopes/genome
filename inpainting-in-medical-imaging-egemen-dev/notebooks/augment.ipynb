{
 "cells": [
  {
   "cell_type": "code",
   "execution_count": 2,
   "metadata": {},
   "outputs": [],
   "source": [
    "%load_ext autoreload\n",
    "%autoreload 2"
   ]
  },
  {
   "cell_type": "code",
   "execution_count": null,
   "metadata": {},
   "outputs": [],
   "source": [
    "%cd .."
   ]
  },
  {
   "cell_type": "code",
   "execution_count": 4,
   "metadata": {},
   "outputs": [],
   "source": [
    "from src.dataset import BraTSDataset\n",
    "from torch.utils.data import DataLoader\n",
    "from tqdm import tqdm\n",
    "import torch\n",
    "import yaml"
   ]
  },
  {
   "cell_type": "markdown",
   "metadata": {},
   "source": [
    "# Baseline augmentation"
   ]
  },
  {
   "cell_type": "code",
   "execution_count": 11,
   "metadata": {},
   "outputs": [],
   "source": [
    "from src.models.baseline import (\n",
    "    BaselineInpaintingGenerator,\n",
    "    BaselineGradeSegmenter,\n",
    "    BaselineShapeSegmenter,\n",
    ")\n",
    "\n",
    "def map_grade(x: torch.Tensor, requires_grad: bool = False):\n",
    "    out = torch.zeros(x.shape, dtype=torch.float, requires_grad=requires_grad).to(\n",
    "        x.device\n",
    "    )\n",
    "    out[(x == 1).nonzero(as_tuple=True)] = 0.5\n",
    "    out[(x == 2).nonzero(as_tuple=True)] = 0.75\n",
    "    out[(x == 3).nonzero(as_tuple=True)] = 1.0\n",
    "    return out\n",
    "\n",
    "BASELINE_INP_GEN_CP_NAME = \"network_inpainting_gen.pth.tar\"\n",
    "BASELINE_SHAPE_CP_NAME = \"network_shape.pth.tar\"\n",
    "BASELINE_GRADE_CP_NAME = \"network_grade.pth.tar\""
   ]
  },
  {
   "cell_type": "code",
   "execution_count": 6,
   "metadata": {},
   "outputs": [
    {
     "data": {
      "text/plain": [
       "<All keys matched successfully>"
      ]
     },
     "execution_count": 6,
     "metadata": {},
     "output_type": "execute_result"
    }
   ],
   "source": [
    "inp_gen_cp_path = f\"results/baseline/21-01-2022 16-44-21/checkpoints/100/{BASELINE_INP_GEN_CP_NAME}\"\n",
    "shape_cp_path = f\"results/baseline/20-01-2022 10-20-16/checkpoints/200/{BASELINE_SHAPE_CP_NAME}\"\n",
    "grade_cp_path = f\"results/baseline/20-01-2022 10-20-16/checkpoints/200/{BASELINE_GRADE_CP_NAME}\"\n",
    "\n",
    "device = torch.device(f\"cuda:{torch.cuda.current_device()}\") if torch.cuda.is_available() else \"cpu\"\n",
    "# device = \"cpu\"\n",
    "\n",
    "shape_cp = torch.load(shape_cp_path)\n",
    "shape_seg = BaselineShapeSegmenter().to(device)\n",
    "shape_seg.load_state_dict(shape_cp[\"state_dict\"])\n",
    "\n",
    "grade_cp = torch.load(grade_cp_path)\n",
    "grade_seg = BaselineGradeSegmenter().to(device)\n",
    "grade_seg.load_state_dict(grade_cp[\"state_dict\"])\n",
    "\n",
    "inp_gen_cp = torch.load(inp_gen_cp_path)\n",
    "inp_gen = BaselineInpaintingGenerator().to(device)\n",
    "inp_gen.load_state_dict(inp_gen_cp[\"state_dict\"])"
   ]
  },
  {
   "cell_type": "code",
   "execution_count": 7,
   "metadata": {},
   "outputs": [],
   "source": [
    "input_path = \"resources/data/brats20/validation\"\n",
    "fixed_indices = \"resources/indices/brats20_25p.yml\"\n",
    "with open(fixed_indices) as file:\n",
    "    indices = yaml.safe_load(file)\n",
    "batch_size = 8\n",
    "\n",
    "aug_dataset = BraTSDataset(root=input_path, mode=\"test\", fixed_indices=indices[\"val\"])\n",
    "aug_loader = DataLoader(dataset=aug_dataset, batch_size=batch_size, shuffle=False)"
   ]
  },
  {
   "cell_type": "code",
   "execution_count": 12,
   "metadata": {},
   "outputs": [
    {
     "name": "stderr",
     "output_type": "stream",
     "text": [
      "  0%|          | 0/67 [00:00<?, ?it/s]"
     ]
    },
    {
     "name": "stdout",
     "output_type": "stream",
     "text": [
      "torch.Size([8, 1, 256, 256])\n"
     ]
    },
    {
     "name": "stderr",
     "output_type": "stream",
     "text": [
      "\n"
     ]
    }
   ],
   "source": [
    "pb = tqdm(aug_loader)\n",
    "for batch in pb:\n",
    "    t_t1 = batch[\"t1\"].to(device)\n",
    "    t_t1ce = batch[\"t1ce\"].to(device)\n",
    "    t_t2 = batch[\"t2\"].to(device)\n",
    "    t_flair = batch[\"flair\"].to(device)\n",
    "\n",
    "    t_m_brain = batch[\"mask_brain_shape\"].to(device)\n",
    "    t_m_shape = batch[\"mask_tumor_shape\"].to(device)\n",
    "    t_m_grade = batch[\"mask_tumor_grade\"].to(device)\n",
    "    t_m_grade_mapped = map_grade(batch[\"mask_tumor_grade\"]).to(device)\n",
    "    t_m_circles = batch[\"mask_circles\"].to(device)\n",
    "\n",
    "    t_m_ed = batch[\"mask_ed\"].to(device)\n",
    "    t_m_et = batch[\"mask_et\"].to(device)\n",
    "    t_m_net = batch[\"mask_net\"].to(device)\n",
    "    # TODO implement\n",
    "    print(t_m_ed.shape)\n",
    "    break"
   ]
  }
 ],
 "metadata": {
  "interpreter": {
   "hash": "dfb674ec9a425cc82138a173e2de945da38ec7669d1115ddccf88fe65c0e66bf"
  },
  "kernelspec": {
   "display_name": "Python 3.8.12 ('mlmi')",
   "language": "python",
   "name": "python3"
  },
  "language_info": {
   "codemirror_mode": {
    "name": "ipython",
    "version": 3
   },
   "file_extension": ".py",
   "mimetype": "text/x-python",
   "name": "python",
   "nbconvert_exporter": "python",
   "pygments_lexer": "ipython3",
   "version": "3.8.12"
  },
  "orig_nbformat": 4
 },
 "nbformat": 4,
 "nbformat_minor": 2
}
